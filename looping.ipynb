{
  "cells": [
    {
      "cell_type": "markdown",
      "metadata": {
        "id": "view-in-github",
        "colab_type": "text"
      },
      "source": [
        "<a href=\"https://colab.research.google.com/github/tianglstrik/Dasarpython/blob/main/looping.ipynb\" target=\"_parent\"><img src=\"https://colab.research.google.com/assets/colab-badge.svg\" alt=\"Open In Colab\"/></a>"
      ]
    },
    {
      "cell_type": "markdown",
      "metadata": {
        "id": "8ukCNR0Db3XR"
      },
      "source": [
        "# For Loop\n",
        "\n",
        "Metode lain yang berguna dalam bahasa pemrograman Python adalah iterator. Hal ini sangat membantu jika Anda ingin melakukan sesuatu beberapa kali.\n"
      ]
    },
    {
      "cell_type": "code",
      "execution_count": null,
      "metadata": {
        "colab": {
          "base_uri": "https://localhost:8080/"
        },
        "id": "E8zVhwohbiB8",
        "outputId": "c2d8f93d-0930-4d7e-dd61-33c989736cc7"
      },
      "outputs": [
        {
          "name": "stdout",
          "output_type": "stream",
          "text": [
            "hai\n",
            "hai\n",
            "hai\n"
          ]
        }
      ],
      "source": [
        "print(\"hai\")\n",
        "print(\"hai\")\n",
        "print(\"hai\")"
      ]
    },
    {
      "cell_type": "markdown",
      "metadata": {
        "id": "HAG9EG90coIa"
      },
      "source": [
        "Dapat dibayangkan jika kita ingin menulis kata \"Hai\" sebanyak seribu kali, tentu kode program kita akan sangat sulit untuk di baca, selain itu, kemungkinan terjadinya kesalahan sangat lah besar. Oleh karena itu, kita dapat menggunakan suatu cara yang disebut loop atau iterator. Ada dua cara untuk menjalankan perintah tersebut, yaitu dengan for atau while loop.\n",
        "Pada contoh kali ini, kita akan menggunakan metode range. Metode ini yang menentukan rentang loop seberapa banyak perintah harus di ulang. Secara default, titik awalnya adalah 0."
      ]
    },
    {
      "cell_type": "code",
      "execution_count": null,
      "metadata": {
        "colab": {
          "base_uri": "https://localhost:8080/"
        },
        "id": "0apDu5Mmcv5Q",
        "outputId": "12516160-0844-4b83-9a47-55ea3a59c190"
      },
      "outputs": [
        {
          "name": "stdout",
          "output_type": "stream",
          "text": [
            "Hai\n",
            "Hai\n",
            "Hai\n"
          ]
        }
      ],
      "source": [
        "for i in range(3):\n",
        " print(\"Hai\")"
      ]
    },
    {
      "cell_type": "markdown",
      "metadata": {
        "id": "djI9q5GUc916"
      },
      "source": [
        "Contoh lainnya jika kita ingin membuat rentang yang berbeda, maka kita dapat menggunakan range(1,3)."
      ]
    },
    {
      "cell_type": "code",
      "execution_count": null,
      "metadata": {
        "colab": {
          "base_uri": "https://localhost:8080/"
        },
        "id": "3KKaIJ_VdF4f",
        "outputId": "e838b939-daa6-4513-f8a8-a59861b20437"
      },
      "outputs": [
        {
          "name": "stdout",
          "output_type": "stream",
          "text": [
            "Hai\n",
            "Hai\n"
          ]
        }
      ],
      "source": [
        "for i in range(1,3):\n",
        " print(\"Hai\")"
      ]
    },
    {
      "cell_type": "markdown",
      "metadata": {
        "id": "Cz2HPJZkdlpE"
      },
      "source": [
        "\"Hai\" hanya tercetak dua kali karena kita telah menentukan rentang dari angka 1 hingga 3. Sederhananya kita dapat mengurangi angka sebelah kanan dengan sebelah kiri.\n",
        "Kita pun dapat menambahkan perintah lain setelah loop selesai, seperti pada contoh di bawah ini:\n"
      ]
    },
    {
      "cell_type": "code",
      "execution_count": null,
      "metadata": {
        "colab": {
          "background_save": true
        },
        "id": "hJ5wtT93dtvB",
        "outputId": "cc108a66-79ba-40ad-e43a-99a4e8deead7"
      },
      "outputs": [
        {
          "name": "stdout",
          "output_type": "stream",
          "text": [
            "Hai\n",
            "Hai\n",
            "Hai\n",
            "Selesai\n"
          ]
        }
      ],
      "source": [
        "for i in range(3):\n",
        " print(\"Hai\")\n",
        "else:\n",
        " print(\"Selesai\")\n"
      ]
    },
    {
      "cell_type": "markdown",
      "source": [
        "Dapat kita lihat bahwa loop telah melakukan iterasi sebanyak 3 kali ( 3 - 0 ). Setelah iterasi selesai, tahap selanjutnya adalah mengeksekusi statement else.\n",
        "Selain itu kita pun dapat melakukan nesting for loop di dalam for loop yang lain"
      ],
      "metadata": {
        "id": "5U-IBjaLmxbE"
      }
    },
    {
      "cell_type": "code",
      "source": [
        "for i in range(3):\n",
        " for j in range(2):\n",
        "  print(\"loop di dalam\")\n",
        " print(\"loop di luar\")\n"
      ],
      "metadata": {
        "colab": {
          "base_uri": "https://localhost:8080/"
        },
        "id": "TaFcSUFCnknY",
        "outputId": "7b2c7e25-7603-4f44-82e2-0810fb47e0e6"
      },
      "execution_count": 9,
      "outputs": [
        {
          "output_type": "stream",
          "name": "stdout",
          "text": [
            "loop di dalam\n",
            "loop di dalam\n",
            "loop di luar\n",
            "loop di dalam\n",
            "loop di dalam\n",
            "loop di luar\n",
            "loop di dalam\n",
            "loop di dalam\n",
            "loop di luar\n"
          ]
        }
      ]
    },
    {
      "cell_type": "markdown",
      "source": [
        "Dapat kita lihat bersama bahwa statement \"loop di dalam\" tereksekusi dua kali. Setelah itu \"loop di luar\" di eksekusi satu kali. Lalu, \"loop di dalam\" di eksekusi lagi sebanyak dua kali.\n",
        "\n",
        "Jika Anda masih bingung, semoga pernyataan ini dapat membantu:\n",
        "\n",
        "⦁\tPython interpreter melihat ada perintah for loop pada bagian awal. Selanjutnya membaca ke bagian bawah dan menemukan keberadaan for loop yang lain.\n",
        "\n",
        "⦁\tSehingga, Python akan mengesekusi \"loop di dalam\" sebanyak dua kali. Setelah selesai yang pertama, interpreter masih harus melakukannya dua kali lagi dari sisa \"loop di luar\" yang harus dilakukan.\n",
        "\n",
        "⦁\tSelanjutnya Interpreter melakukan tugas mulai lagi dari awal dan melihat for \"loop di dalam\" dan di ulangi terus hingga \"loop di luar\" selesai.\n",
        "\n",
        "Kita pun dapat memilih untuk melewati for loop pada kondisi tertentu. Maksudnya adalah setiap kali proses looping dijalankan, hingga intrepreter melihat statement pass, sehingga membuatnya tidak mengesekusi baris tersebut dan akan melanjutkan pada baris setelahnya (jika ada).\n"
      ],
      "metadata": {
        "id": "KlXQxkYjnwNP"
      }
    },
    {
      "cell_type": "code",
      "source": [
        "for i in range(3):\n",
        " pass"
      ],
      "metadata": {
        "id": "NaKGiNqFn-1Z"
      },
      "execution_count": null,
      "outputs": []
    },
    {
      "cell_type": "markdown",
      "source": [
        "Anda tidak akan melihat output di sini, karena setelah pass tidak ada lagi baris kode program.\n"
      ],
      "metadata": {
        "id": "tkuUOK3FoDxM"
      }
    },
    {
      "cell_type": "markdown",
      "source": [
        "# While Loop\n",
        "\n",
        "Dalam bahasa pemrograman Python, terdapat metode loop atau iterator yang lain, yaitu while loop. Kita pun dapat memberikan hasil yang sama seperti yang telah kita lakukan pada for loop dengan menggunakan while loop, seperti contoh di bawah ini:\n"
      ],
      "metadata": {
        "id": "OpgMIfrxoDuv"
      }
    },
    {
      "cell_type": "code",
      "source": [
        "i = 0\n",
        "while i < 3:\n",
        " print(\"Angka\", i)\n",
        " i += 1\n"
      ],
      "metadata": {
        "colab": {
          "base_uri": "https://localhost:8080/"
        },
        "id": "R5CgZHywoUb3",
        "outputId": "5f96ed47-80c9-480f-c414-f4c412a85f63"
      },
      "execution_count": 10,
      "outputs": [
        {
          "output_type": "stream",
          "name": "stdout",
          "text": [
            "Angka 0\n",
            "Angka 1\n",
            "Angka 2\n"
          ]
        }
      ]
    },
    {
      "cell_type": "markdown",
      "source": [
        "Perlu diperhatikan bahwa, setiap kali kita menggunakan perintah while loop. Kita harus menambahkan statement increment atau statement yang dapat menghentikan loop pada titik tertentu. Jika kita tidak menggunakannya, maka proses loop akan berjalan selama nya.\n",
        "\n",
        "Cara lain untuk menghentikan loop adalah dengan menambahkan statement break di dalam while loop. Perintah ini akan menghentikan loop seperti pada contoh di bawah ini.\n"
      ],
      "metadata": {
        "id": "Kl7xuQDjoDpe"
      }
    },
    {
      "cell_type": "code",
      "source": [
        "i=0\n",
        "while i < 3:\n",
        "  if i == 3:\n",
        "      break\n",
        "  print(\"angka\", i)\n",
        "i+=1"
      ],
      "metadata": {
        "id": "T7w1Mfxnof20"
      },
      "execution_count": null,
      "outputs": []
    },
    {
      "cell_type": "markdown",
      "source": [
        "Di sini kita menghentikan while loop ketika intrepreter membaca nilai dari i , yaitu 4 (lebih dari 3).\n",
        "Contoh lainnya adalah dengan menambahkan statement else di dalam while loop. Statement ini akan di eksekusi setelah while loop selesai"
      ],
      "metadata": {
        "id": "2CwsDyaxqH8S"
      }
    },
    {
      "cell_type": "code",
      "source": [
        "i = 0\n",
        "while i < 3:\n",
        " print(\"Angka\", i)\n",
        " i += 1\n",
        "else:\n",
        " print(\"Angka lebih besar dari 2\")"
      ],
      "metadata": {
        "colab": {
          "base_uri": "https://localhost:8080/"
        },
        "id": "VBa3y8YlqMpm",
        "outputId": "d1bc8747-5c28-44d0-92b7-9364363fd9d0"
      },
      "execution_count": 2,
      "outputs": [
        {
          "output_type": "stream",
          "name": "stdout",
          "text": [
            "Angka 0\n",
            "Angka 1\n",
            "Angka 2\n",
            "Angka lebih besar dari 2\n"
          ]
        }
      ]
    },
    {
      "cell_type": "markdown",
      "source": [
        "Selanjutnya adalah statement continue. Statement ini dapat digunakan untuk melewati proses eksekusi yang sedang berjalan dan melanjutkan pada baris setelahnya.\n"
      ],
      "metadata": {
        "id": "regQ0jP8qc5k"
      }
    },
    {
      "cell_type": "code",
      "source": [
        "i = 0\n",
        "while i < 5:\n",
        " i += 1\n",
        " if i == 2:\n",
        "   continue\n",
        "print(\"Angka\", i)\n"
      ],
      "metadata": {
        "colab": {
          "base_uri": "https://localhost:8080/"
        },
        "id": "j2LERBUAqhKd",
        "outputId": "2af99335-b17d-4c2f-9a66-aa62f7ef2115"
      },
      "execution_count": 3,
      "outputs": [
        {
          "output_type": "stream",
          "name": "stdout",
          "text": [
            "Angka 5\n"
          ]
        }
      ]
    }
  ],
  "metadata": {
    "colab": {
      "provenance": [],
      "authorship_tag": "ABX9TyPIyaH89ZQ/DXxjUUPhQxjo",
      "include_colab_link": true
    },
    "kernelspec": {
      "display_name": "Python 3",
      "name": "python3"
    },
    "language_info": {
      "name": "python"
    }
  },
  "nbformat": 4,
  "nbformat_minor": 0
}