{
  "cells": [
    {
      "cell_type": "markdown",
      "metadata": {
        "id": "view-in-github",
        "colab_type": "text"
      },
      "source": [
        "<a href=\"https://colab.research.google.com/github/tianglstrik/Dasarpython/blob/main/operator_arimatika.ipynb\" target=\"_parent\"><img src=\"https://colab.research.google.com/assets/colab-badge.svg\" alt=\"Open In Colab\"/></a>"
      ]
    },
    {
      "cell_type": "markdown",
      "metadata": {
        "id": "-LQvsYoINQPx"
      },
      "source": [
        "# Operator arimatika\n",
        "\n",
        "*Operator adalah simbol aritmatika pada bahasa pemrograman Python atau bahasa lainnya,* untuk melihat seluruh operator yang tersedia pada Python Anda dapat melihat table di bawah ini\n",
        "\n",
        "Operator yang akan kita bahas adalah penambahan, pengurangan, perkalian, eksponensial, modulus, dan pembagian. Mari kita lihat operasi aritmatika sederhana pada bahasa pemrograman Python.\n",
        "\n",
        "\n"
      ]
    },
    {
      "cell_type": "code",
      "execution_count": null,
      "metadata": {
        "colab": {
          "base_uri": "https://localhost:8080/"
        },
        "id": "jTQN2gz0NPZx",
        "outputId": "032ea5df-63a0-4a7e-9167-c4667be53a8d"
      },
      "outputs": [
        {
          "name": "stdout",
          "output_type": "stream",
          "text": [
            "9\n"
          ]
        }
      ],
      "source": [
        "#operator pertambahan\n",
        "\n",
        "a=5\n",
        "b=4\n",
        "\n",
        "print(a + b)"
      ]
    },
    {
      "cell_type": "code",
      "execution_count": 7,
      "metadata": {
        "colab": {
          "base_uri": "https://localhost:8080/"
        },
        "id": "dKFsEtx4O_CQ",
        "outputId": "7110a862-9ef8-4d6e-e26c-1fc3d445d58e"
      },
      "outputs": [
        {
          "output_type": "stream",
          "name": "stdout",
          "text": [
            "5\n"
          ]
        }
      ],
      "source": [
        "#operator pengurangan\n",
        "\n",
        "a=10\n",
        "b=5\n",
        "\n",
        "print(a-b)"
      ]
    },
    {
      "cell_type": "code",
      "source": [
        "#operator perkalian\n",
        "\n",
        "a=10\n",
        "b=5\n",
        "\n",
        "print(a*b)"
      ],
      "metadata": {
        "colab": {
          "base_uri": "https://localhost:8080/"
        },
        "id": "l4-RnhhIRYLs",
        "outputId": "13ff056f-629c-4f87-8e42-7a067810c17c"
      },
      "execution_count": 8,
      "outputs": [
        {
          "output_type": "stream",
          "name": "stdout",
          "text": [
            "50\n"
          ]
        }
      ]
    },
    {
      "cell_type": "code",
      "source": [
        "#operator pembagian\n",
        "\n",
        "a=20\n",
        "b=5\n",
        "\n",
        "print(a/b)"
      ],
      "metadata": {
        "colab": {
          "base_uri": "https://localhost:8080/"
        },
        "id": "pwQF1MzlRkbu",
        "outputId": "99f4dece-224a-47f9-d7f8-144ab47695a4"
      },
      "execution_count": 9,
      "outputs": [
        {
          "output_type": "stream",
          "name": "stdout",
          "text": [
            "4.0\n"
          ]
        }
      ]
    },
    {
      "cell_type": "code",
      "source": [
        "#operator eksponen\n",
        "a=2\n",
        "b=3\n",
        "\n",
        "print(a**b)"
      ],
      "metadata": {
        "colab": {
          "base_uri": "https://localhost:8080/"
        },
        "id": "9XmD1sVlR657",
        "outputId": "24458dc6-a257-4901-d5e4-87080d94ab88"
      },
      "execution_count": 10,
      "outputs": [
        {
          "output_type": "stream",
          "name": "stdout",
          "text": [
            "8\n"
          ]
        }
      ]
    },
    {
      "cell_type": "markdown",
      "source": [
        "# Operator Perbandingan"
      ],
      "metadata": {
        "id": "iPE6lMZMSOnn"
      }
    },
    {
      "cell_type": "code",
      "source": [
        "a=10\n",
        "b=5\n",
        "\n",
        "a>b #lebih dari\n",
        "\n",
        "a<b #kurang dari\n",
        "\n",
        "a==b#sama dengan\n",
        "\n",
        "a<=b#kurang dari sama dengan\n",
        "\n",
        "a>=b#lebih dari sama dengan"
      ],
      "metadata": {
        "id": "h0DKEOhqSY9F",
        "outputId": "2a0a1e34-21b7-4d5a-897b-00d7c32640d4",
        "colab": {
          "base_uri": "https://localhost:8080/"
        }
      },
      "execution_count": 12,
      "outputs": [
        {
          "output_type": "execute_result",
          "data": {
            "text/plain": [
              "True"
            ]
          },
          "metadata": {},
          "execution_count": 12
        }
      ]
    }
  ],
  "metadata": {
    "colab": {
      "provenance": [],
      "authorship_tag": "ABX9TyNfzZREWbAgn90OcPVBwpPV",
      "include_colab_link": true
    },
    "kernelspec": {
      "display_name": "Python 3",
      "name": "python3"
    },
    "language_info": {
      "name": "python"
    }
  },
  "nbformat": 4,
  "nbformat_minor": 0
}