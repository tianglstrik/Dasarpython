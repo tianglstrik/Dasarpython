{
  "nbformat": 4,
  "nbformat_minor": 0,
  "metadata": {
    "colab": {
      "provenance": [],
      "authorship_tag": "ABX9TyM9OeedQ4Y3mxAmlcuPhXBv",
      "include_colab_link": true
    },
    "kernelspec": {
      "name": "python3",
      "display_name": "Python 3"
    },
    "language_info": {
      "name": "python"
    }
  },
  "cells": [
    {
      "cell_type": "markdown",
      "metadata": {
        "id": "view-in-github",
        "colab_type": "text"
      },
      "source": [
        "<a href=\"https://colab.research.google.com/github/tianglstrik/Dasarpython/blob/main/Game%20AAT.ipynb\" target=\"_parent\"><img src=\"https://colab.research.google.com/assets/colab-badge.svg\" alt=\"Open In Colab\"/></a>"
      ]
    },
    {
      "cell_type": "markdown",
      "source": [
        "# Game AAT\n",
        "\n",
        "**Game Air Api Tanah** merupakan game yang aku ciptakan bersama habib.\n",
        "Agar game ini berjalan perlu kamu run di terminal dalam vs code, dan juga cara memainkan nya cukup gampang dengan cara kamu mengetik pilihan yang sudah di berikan yaitu api,air,tanah."
      ],
      "metadata": {
        "id": "d3rWekB_bxQ3"
      }
    },
    {
      "cell_type": "code",
      "execution_count": 1,
      "metadata": {
        "colab": {
          "base_uri": "https://localhost:8080/"
        },
        "id": "juxijTklYxcl",
        "outputId": "25f0c399-1516-42b9-b983-783437d9b4c0"
      },
      "outputs": [
        {
          "output_type": "stream",
          "name": "stdout",
          "text": [
            "masukan api, air, tanah ? :tanah\n",
            "kamu kalah api membakar tanah\n"
          ]
        }
      ],
      "source": [
        "from random import randint\n",
        "\n",
        "#untuk list air api tanah\n",
        "list=[\"api\",\"air\",\"tanah\"]\n",
        "\n",
        "#pilihan random menggunakan randint\n",
        "bot=list[randint(0,2)]\n",
        "\n",
        "#set player ke false\n",
        "player= False\n",
        "\n",
        "while player == False:\n",
        "#player ke true\n",
        " player=input(\"masukan api, air, tanah ? :\")\n",
        " if player == bot:\n",
        "  print(\"seri\")\n",
        " elif player==\"tanah\":\n",
        "  if bot == \"api\":\n",
        "   print(\"kamu kalah\",bot,\"membakar\",player)\n",
        "  else:\n",
        "   print(\"kamu menang\",player,\"menyerap\",bot)\n",
        " elif player == \"air\":\n",
        "  if bot == \"tanah\":\n",
        "   print(\"kamu kalah\",bot,\"menyerap\",player)\n",
        "  else:\n",
        "   print(\"kamu menang\",player,\"memadamkan\",bot)\n",
        " elif player == \"api\":\n",
        "  if bot == \"air\":\n",
        "   print(\"kamu kalah\",bot,\"memadamkan\",player)\n",
        "  else:\n",
        "   print(\"kamu menang\",player,\"membakar\",bot)\n",
        " else:\n",
        "  print(\"input yang salah\")\n",
        "\n",
        "player = False\n",
        "bot=list[randint(0,2)]"
      ]
    }
  ]
}